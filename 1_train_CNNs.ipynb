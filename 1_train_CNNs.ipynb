{
 "cells": [
  {
   "cell_type": "code",
   "execution_count": null,
   "metadata": {},
   "outputs": [],
   "source": [
    "import tensorflow as tf\n",
    "config = tf.ConfigProto(log_device_placement=False, allow_soft_placement=True)    \n",
    "config.gpu_options.allow_growth = True\n",
    "config.gpu_options.per_process_gpu_memory_fraction = 0.90\n",
    "sess = tf.Session(config = config)\n",
    "\n",
    "import pickle\n",
    "import os\n",
    "os.environ['TF_CPP_MIN_LOG_LEVEL']='3' \n",
    "os.environ[\"CUDA_VISIBLE_DEVICES\"]=\"0\"\n",
    "\n",
    "import warnings\n",
    "\n",
    "warnings.filterwarnings('ignore')\n",
    "\n",
    "from tensorflow.keras.applications.vgg19 import VGG19\n",
    "from tensorflow.keras.applications.inception_resnet_v2 import InceptionResNetV2\n",
    "from tensorflow.keras.applications.inception_v3 import InceptionV3\n"
   ]
  },
  {
   "cell_type": "code",
   "execution_count": null,
   "metadata": {},
   "outputs": [],
   "source": []
  },
  {
   "cell_type": "code",
   "execution_count": null,
   "metadata": {},
   "outputs": [],
   "source": [
    "from Model import *\n",
    "from Utils import *\n",
    "from imblearn.over_sampling import *\n",
    "\n",
    "\n",
    "NUM_EXECUTIONS = 10\n",
    "BATCH_SIZE = 32\n",
    "INCLUDE_CEILOMETER = False\n",
    "\n",
    "experiment_ceil_text = \"ceil\"\n",
    "if not INCLUDE_CEILOMETER:\n",
    "    experiment_ceil_text = \"no_ceil\"\n",
    "\n",
    "file_dir = \"data\"\n",
    "model_dir = \"results\"\n",
    "\n",
    "# TODO \n",
    "data = load_data(file_dir, oversampler=RandomOverSampler())\n",
    "\n",
    "data_generator = make_data_generator(data['train'])\n",
    "\n"
   ]
  },
  {
   "cell_type": "code",
   "execution_count": null,
   "metadata": {},
   "outputs": [],
   "source": [
    "# https://github.com/keras-team/keras/issues/2131\n",
    "model_name = 'vgg19_%s' % experiment_ceil_text\n",
    "model, model_file_name = fit_model(data['train'], data['valid'], data_generator, \n",
    "                                   make_prebuilt(VGG19,.1, include_ceilometer=False), \n",
    "                                   model_name=model_name, model_dir=model_dir, \n",
    "                                   batch_size=BATCH_SIZE, include_ceilometer=INCLUDE_CEILOMETER, max_epochs=2)\n",
    "\n",
    "save_results(model_dir, model_file_name, data, data_generator, include_ceilometer=INCLUDE_CEILOMETER)\n",
    "\n"
   ]
  },
  {
   "cell_type": "code",
   "execution_count": null,
   "metadata": {},
   "outputs": [],
   "source": [
    "model_name = 'inceptionresnetv2_%s' % experiment_ceil_text\n",
    "model, model_file_name = fit_model(data['train'], data['valid'], data_generator,\n",
    "                                   make_prebuilt(InceptionResNetV2,.25, include_ceilometer=False), \n",
    "                                   model_name=model_name,model_dir=model_dir, batch_size=BATCH_SIZE, \n",
    "                                   include_ceilometer=INCLUDE_CEILOMETER)\n",
    "save_results(model_dir, model_file_name, data, data_generator, include_ceilometer=INCLUDE_CEILOMETER)\n"
   ]
  },
  {
   "cell_type": "code",
   "execution_count": null,
   "metadata": {},
   "outputs": [],
   "source": [
    "model_name = 'inceptionv3_%s' % experiment_ceil_text\n",
    "model, model_file_name = fit_model(data['train'], data['valid'], data_generator,\n",
    "                        make_prebuilt(InceptionV3,.1, include_ceilometer=False), model_name=model_name,\n",
    "                        model_dir=model_dir, batch_size=BATCH_SIZE, include_ceilometer=INCLUDE_CEILOMETER)\n",
    "\n",
    "save_results(model_dir, model_file_name, data, data_generator, include_ceilometer=INCLUDE_CEILOMETER)\n",
    "\n"
   ]
  }
 ],
 "metadata": {
  "kernelspec": {
   "display_name": "Python 3",
   "language": "python",
   "name": "python3"
  },
  "language_info": {
   "codemirror_mode": {
    "name": "ipython",
    "version": 3
   },
   "file_extension": ".py",
   "mimetype": "text/x-python",
   "name": "python",
   "nbconvert_exporter": "python",
   "pygments_lexer": "ipython3",
   "version": "3.6.9"
  }
 },
 "nbformat": 4,
 "nbformat_minor": 4
}
