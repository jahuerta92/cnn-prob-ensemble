{
 "cells": [
  {
   "cell_type": "markdown",
   "metadata": {
    "colab_type": "text",
    "id": "upZEo-LBEFm1"
   },
   "source": [
    "# Montaje"
   ]
  },
  {
   "cell_type": "code",
   "execution_count": null,
   "metadata": {
    "colab": {
     "base_uri": "https://localhost:8080/",
     "height": 271
    },
    "colab_type": "code",
    "executionInfo": {
     "elapsed": 123892,
     "status": "ok",
     "timestamp": 1579876856740,
     "user": {
      "displayName": "JAVIER HUERTAS TATO",
      "photoUrl": "",
      "userId": "11051141025262866472"
     },
     "user_tz": -60
    },
    "id": "FMvFSUFeWziP",
    "outputId": "641419a3-be8f-468e-e78f-4facb57bfdd3"
   },
   "outputs": [
    {
     "name": "stderr",
     "output_type": "stream",
     "text": [
      "/usr/local/lib/python3.6/dist-packages/tensorflow/python/framework/dtypes.py:516: FutureWarning: Passing (type, 1) or '1type' as a synonym of type is deprecated; in a future version of numpy, it will be understood as (type, (1,)) / '(1,)type'.\n",
      "  _np_qint8 = np.dtype([(\"qint8\", np.int8, 1)])\n",
      "/usr/local/lib/python3.6/dist-packages/tensorflow/python/framework/dtypes.py:517: FutureWarning: Passing (type, 1) or '1type' as a synonym of type is deprecated; in a future version of numpy, it will be understood as (type, (1,)) / '(1,)type'.\n",
      "  _np_quint8 = np.dtype([(\"quint8\", np.uint8, 1)])\n",
      "/usr/local/lib/python3.6/dist-packages/tensorflow/python/framework/dtypes.py:518: FutureWarning: Passing (type, 1) or '1type' as a synonym of type is deprecated; in a future version of numpy, it will be understood as (type, (1,)) / '(1,)type'.\n",
      "  _np_qint16 = np.dtype([(\"qint16\", np.int16, 1)])\n",
      "/usr/local/lib/python3.6/dist-packages/tensorflow/python/framework/dtypes.py:519: FutureWarning: Passing (type, 1) or '1type' as a synonym of type is deprecated; in a future version of numpy, it will be understood as (type, (1,)) / '(1,)type'.\n",
      "  _np_quint16 = np.dtype([(\"quint16\", np.uint16, 1)])\n",
      "/usr/local/lib/python3.6/dist-packages/tensorflow/python/framework/dtypes.py:520: FutureWarning: Passing (type, 1) or '1type' as a synonym of type is deprecated; in a future version of numpy, it will be understood as (type, (1,)) / '(1,)type'.\n",
      "  _np_qint32 = np.dtype([(\"qint32\", np.int32, 1)])\n",
      "/usr/local/lib/python3.6/dist-packages/tensorflow/python/framework/dtypes.py:525: FutureWarning: Passing (type, 1) or '1type' as a synonym of type is deprecated; in a future version of numpy, it will be understood as (type, (1,)) / '(1,)type'.\n",
      "  np_resource = np.dtype([(\"resource\", np.ubyte, 1)])\n"
     ]
    }
   ],
   "source": [
    "#from google.colab import drive, files\n",
    "import sys\n",
    "\n",
    "#drive.mount('/content/drive', force_remount=True)\n",
    "# '/content/drive/My Drive/Universidad/Proyectos/NubesKeras'\n",
    "#sys.path.append('/content/drive/My Drive/Proyectos/NubesKeras')\n",
    "\n",
    "import tensorflow as tf\n",
    "import seaborn as sns\n",
    "import numpy as np\n",
    "import pandas as pd\n",
    "\n",
    "from tensorflow.keras.models import Model\n",
    "from sklearn.ensemble import RandomForestClassifier\n",
    "from sklearn.model_selection import train_test_split\n",
    "from sklearn.decomposition import PCA\n",
    "from imblearn.over_sampling import SMOTE\n",
    "\n",
    "from math import ceil\n",
    "\n",
    "config = tf.ConfigProto(log_device_placement=False, allow_soft_placement=True)    \n",
    "config.gpu_options.allow_growth = True\n",
    "config.gpu_options.per_process_gpu_memory_fraction = 0.90\n",
    "sess = tf.Session(config = config)"
   ]
  },
  {
   "cell_type": "code",
   "execution_count": null,
   "metadata": {},
   "outputs": [],
   "source": [
    "!ls\n"
   ]
  },
  {
   "cell_type": "markdown",
   "metadata": {
    "colab_type": "text",
    "id": "Hk0iCY_xELWO"
   },
   "source": [
    "# Carga de datos"
   ]
  },
  {
   "cell_type": "code",
   "execution_count": null,
   "metadata": {
    "colab": {
     "base_uri": "https://localhost:8080/",
     "height": 635
    },
    "colab_type": "code",
    "executionInfo": {
     "elapsed": 27083,
     "status": "ok",
     "timestamp": 1579876893730,
     "user": {
      "displayName": "JAVIER HUERTAS TATO",
      "photoUrl": "",
      "userId": "11051141025262866472"
     },
     "user_tz": -60
    },
    "id": "eZ8I5aoCWfGy",
    "outputId": "bf10bfd2-6e86-4874-c5bf-1f20e19942e9"
   },
   "outputs": [],
   "source": [
    "from Model import *\n",
    "from Utils import *\n",
    "\n",
    "file_dir = \"data\"\n",
    "model_dir = \"results\"\n",
    "\n",
    "data = load_data(file_dir)\n",
    "\n",
    "data_generator = make_data_generator(data['train'])"
   ]
  },
  {
   "cell_type": "markdown",
   "metadata": {
    "colab_type": "text",
    "id": "tbnDrqkLEVWL"
   },
   "source": [
    "# Aprendizaje pre-builts"
   ]
  },
  {
   "cell_type": "markdown",
   "metadata": {
    "colab_type": "text",
    "id": "paNApN57nKiq"
   },
   "source": [
    "#### VGG19"
   ]
  },
  {
   "cell_type": "code",
   "execution_count": null,
   "metadata": {
    "colab": {
     "base_uri": "https://localhost:8080/",
     "height": 1000
    },
    "colab_type": "code",
    "executionInfo": {
     "elapsed": 8535256,
     "status": "ok",
     "timestamp": 1579784495862,
     "user": {
      "displayName": "Javier Huertas",
      "photoUrl": "",
      "userId": "08531127118556167809"
     },
     "user_tz": -60
    },
    "id": "xUO5H7JR0uuJ",
    "outputId": "2e17b484-de30-44de-90d2-01d31a7a80f7"
   },
   "outputs": [],
   "source": [
    "from tensorflow.keras.applications.vgg19 import VGG19\n",
    "model_name = 'vgg19'\n",
    "fit_model(data['train'], data['valid'], data_generator,\n",
    "          make_prebuilt(VGG19, .1),\n",
    "          batch_size=128,\n",
    "          model_name=model_name,\n",
    "          model_dir=model_dir)\n",
    "\n",
    "save_results(model_dir, model_name, data['label_encoder'],\n",
    "             data_generator, test_data=data['test'])\n"
   ]
  },
  {
   "cell_type": "code",
   "execution_count": null,
   "metadata": {
    "colab": {
     "base_uri": "https://localhost:8080/",
     "height": 1000
    },
    "colab_type": "code",
    "executionInfo": {
     "elapsed": 2117759,
     "status": "ok",
     "timestamp": 1579179295447,
     "user": {
      "displayName": "Javier Huertas",
      "photoUrl": "",
      "userId": "08531127118556167809"
     },
     "user_tz": -60
    },
    "id": "yWu9muoECFTU",
    "outputId": "3e593efa-e8b9-41ae-a33b-9f1902f63105"
   },
   "outputs": [],
   "source": [
    "from tensorflow.keras.applications.vgg19 import VGG19\n",
    "model_name = 'vgg19_alt'\n",
    "fit_model(data['train'], data['valid'], data_generator,\n",
    "          make_prebuilt_extended(VGG19, .1), \n",
    "          model_name=model_name,\n",
    "          model_dir=model_dir)\n",
    "\n",
    "save_results(model_dir, model_name, data['label_encoder'],\n",
    "             data_generator, test_data=data['test'])\n"
   ]
  },
  {
   "cell_type": "markdown",
   "metadata": {
    "colab_type": "text",
    "id": "fnSU_HJxk7hp"
   },
   "source": [
    "#### Inception V3"
   ]
  },
  {
   "cell_type": "code",
   "execution_count": null,
   "metadata": {
    "colab": {
     "base_uri": "https://localhost:8080/",
     "height": 1000
    },
    "colab_type": "code",
    "executionInfo": {
     "elapsed": 6730141,
     "status": "ok",
     "timestamp": 1579701348592,
     "user": {
      "displayName": "Javier Huertas",
      "photoUrl": "",
      "userId": "08531127118556167809"
     },
     "user_tz": -60
    },
    "id": "q_FltC9djDK5",
    "outputId": "1ce3eaab-5af4-420d-e3a3-13a5bb67bd27"
   },
   "outputs": [],
   "source": [
    "from tensorflow.keras.applications.inception_v3 import InceptionV3\n",
    "model_name = 'inceptionv3'\n",
    "fit_model(data['train'], data['valid'], data_generator,\n",
    "                        make_prebuilt(InceptionV3,.1), model_name=model_name,\n",
    "                        model_dir=model_dir)\n",
    "\n",
    "save_results(model_dir, model_name, data['label_encoder'],\n",
    "             data_generator, test_data=data['test'])"
   ]
  },
  {
   "cell_type": "markdown",
   "metadata": {
    "colab_type": "text",
    "id": "Sm2ymAK6lARk"
   },
   "source": [
    "#### Inception ResNet V2"
   ]
  },
  {
   "cell_type": "code",
   "execution_count": null,
   "metadata": {
    "colab": {
     "base_uri": "https://localhost:8080/",
     "height": 1000
    },
    "colab_type": "code",
    "executionInfo": {
     "elapsed": 11066960,
     "status": "ok",
     "timestamp": 1579823588105,
     "user": {
      "displayName": "JAVIER HUERTAS TATO",
      "photoUrl": "",
      "userId": "11051141025262866472"
     },
     "user_tz": -60
    },
    "id": "3eI7W--6kc1A",
    "outputId": "94e89a9f-409a-4cef-b48d-42e3364c843e"
   },
   "outputs": [],
   "source": [
    "from tensorflow.keras.applications.inception_resnet_v2 import InceptionResNetV2\n",
    "model_name = 'inceptionresnetv2'\n",
    "fit_model(data['train'], data['valid'], data_generator,\n",
    "                        make_prebuilt(InceptionResNetV2,.25), model_name=model_name,\n",
    "                        model_dir=model_dir)\n",
    "save_results(model_dir, model_name, data['label_encoder'],\n",
    "             data_generator, test_data=data['test'])"
   ]
  },
  {
   "cell_type": "markdown",
   "metadata": {
    "colab_type": "text",
    "id": "SXcHqEWzJg2y"
   },
   "source": [
    "#### NASNetLarge"
   ]
  },
  {
   "cell_type": "code",
   "execution_count": null,
   "metadata": {
    "colab": {
     "base_uri": "https://localhost:8080/",
     "height": 1000
    },
    "colab_type": "code",
    "executionInfo": {
     "elapsed": 791,
     "status": "error",
     "timestamp": 1579258745626,
     "user": {
      "displayName": "Javier Huertas",
      "photoUrl": "",
      "userId": "08531127118556167809"
     },
     "user_tz": -60
    },
    "id": "Ar7ajXH3JlrX",
    "outputId": "fedbec6b-e889-4f97-bb9c-97f099a3618a"
   },
   "outputs": [],
   "source": [
    "from tensorflow.keras.applications.nasnet import NASNetLarge\n",
    "model_name = 'nasnetlarge'\n",
    "fit_model(data['train'], data['valid'], data_generator,\n",
    "                        make_prebuilt(NASNetLarge, .5, wgh=None), model_name=model_name,\n",
    "                        model_dir=model_dir, batch_size=32)\n",
    "save_results(model_dir, model_name, data['label_encoder'],\n",
    "             data_generator, test_data=data['test'])"
   ]
  },
  {
   "cell_type": "markdown",
   "metadata": {
    "colab_type": "text",
    "id": "9bilU0s2I8DL"
   },
   "source": [
    "# Random Forest Ensembles"
   ]
  },
  {
   "cell_type": "markdown",
   "metadata": {
    "colab_type": "text",
    "id": "T3-0m1KbACnm"
   },
   "source": [
    "##### NN into RF"
   ]
  },
  {
   "cell_type": "code",
   "execution_count": null,
   "metadata": {
    "colab": {
     "base_uri": "https://localhost:8080/",
     "height": 1000
    },
    "colab_type": "code",
    "executionInfo": {
     "elapsed": 93002,
     "status": "ok",
     "timestamp": 1579864757416,
     "user": {
      "displayName": "Javier Huertas",
      "photoUrl": "",
      "userId": "08531127118556167809"
     },
     "user_tz": -60
    },
    "id": "rvT8Yfj5z5st",
    "outputId": "82a4f5be-7c32-4e86-95d8-0980aa735124"
   },
   "outputs": [],
   "source": [
    "model_name = 'inceptionv3'\n",
    "model = load_model('%s/%s' % (model_dir, '%s_model.h5' % model_name))\n",
    "model.summary()\n",
    "\n",
    "# Training rf\n",
    "print('Train')\n",
    "x_train = data['features'][0]\n",
    "y_train = data['label_encoder'].inverse_transform(data['train'][-1])\n",
    "\n",
    "print('tr - Train classifier')\n",
    "classifier = RandomForestClassifier(250, random_state=1,\n",
    "                                    max_features=.35)\n",
    "\n",
    "classifier.fit(x_train, y_train)\n",
    "\n",
    "print('Test')\n",
    "img_test, ceil_test, y_test= data['test']\n",
    "x_test = data['features'][-1]\n",
    "standard_img_test = data_generator.standardize(img_test)\n",
    "\n",
    "print('te - Get predictions from trained model')\n",
    "nn_pred = model.predict([standard_img_test, ceil_test])\n",
    "rf_pred = classifier.predict_proba(x_test)\n",
    "avg_pred = (nn_pred + rf_pred)/2\n",
    "max_pred = np.maximum(nn_pred, rf_pred)\n",
    "\n",
    "rf_pred = data['label_encoder'].inverse_transform(rf_pred)\n",
    "nn_pred = data['label_encoder'].inverse_transform(nn_pred)\n",
    "avg_pred = data['label_encoder'].inverse_transform(avg_pred)\n",
    "max_pred = data['label_encoder'].inverse_transform(max_pred)\n",
    "\n",
    "decoded_observations = data['label_encoder'].inverse_transform(y_test)\n",
    "pred_obs = pd.DataFrame(data={'avg_pred': avg_pred,\n",
    "                              'max_pred': max_pred,\n",
    "                              'obs': decoded_observations,\n",
    "                              'rf_pred': rf_pred,\n",
    "                              'nn_pred': nn_pred})\n",
    "\n",
    "\n",
    "print('---{}---'.format('ensemble_avg'))\n",
    "print(classification_report(pred_obs['obs'], pred_obs['avg_pred'], digits=4))\n",
    "print('---{}---'.format('ensemble_max'))\n",
    "print(classification_report(pred_obs['obs'], pred_obs['max_pred'], digits=4))\n",
    "print('---{}---'.format('random_forest'))\n",
    "print(classification_report(pred_obs['obs'], pred_obs['rf_pred'], digits=4))\n",
    "print('---{}---'.format(model_name))\n",
    "print(classification_report(pred_obs['obs'], pred_obs['nn_pred'], digits=4))\n",
    "\n",
    "# Evaluar el Modelo\n",
    "plt.ylabel('True Label')\n",
    "plt.xlabel('Predicted Label')\n",
    "plt.title('Confusion Matrix')\n",
    "matrix = confusion_matrix(pred_obs['obs'], pred_obs['avg_pred'])\n",
    "#names = pred_obs['obs'].unique()\n",
    "sns.heatmap(matrix, annot=True, cbar=False)\n",
    "\n",
    "ensemble_name='inceptionresnetv2_plus_RandomForest'\n",
    "pred_obs.to_csv('%s/%s' % (file_dir, '%s_preds.csv' % ensemble_name))\n",
    "\n"
   ]
  },
  {
   "cell_type": "markdown",
   "metadata": {
    "colab_type": "text",
    "id": "2RizjHsayPE-"
   },
   "source": [
    "#### NN and RF"
   ]
  },
  {
   "cell_type": "code",
   "execution_count": null,
   "metadata": {
    "colab": {
     "base_uri": "https://localhost:8080/",
     "height": 424
    },
    "colab_type": "code",
    "executionInfo": {
     "elapsed": 12623,
     "status": "error",
     "timestamp": 1579689203574,
     "user": {
      "displayName": "Javier Huertas",
      "photoUrl": "",
      "userId": "08531127118556167809"
     },
     "user_tz": -60
    },
    "id": "QbdlRGeqyNpa",
    "outputId": "3212c694-8fcb-4a39-c062-dc6a820f4f56"
   },
   "outputs": [],
   "source": [
    "model_name = 'inceptionresnetv2'\n",
    "model = load_model('%s/%s' % (model_dir, '%s_model.h5' % model_name))\n",
    "  \n",
    "rf_model = Model(inputs=model.input, outputs=model.layers[-5].output)\n",
    "rf_model.summary()\n",
    "\n",
    "# Training rf\n",
    "print('Train')\n",
    "img_train, ceil_train, y_train = data['train']\n",
    "print('tr - Get predictions from trained model')\n",
    "_, att = rf_model.output.shape\n",
    "num = img_train.shape[0]\n",
    "batch_size = 128\n",
    "\n",
    "#train_prediction_set = rf_model.predict_generator(data_generator.flow(x=(img_train,ceil_train),\n",
    "#                                                                        batch_size=batch_size),\n",
    "#                                                                        steps= ceil(num/batch_size),\n",
    "#                                                                        verbose=1)\n",
    "y_train_dec = list(data['label_encoder'].inverse_transform(y_train))\n",
    "\n",
    "reductor = PCA(.95, svd_solver='full')\n",
    "classifier = RandomForestClassifier(100, random_state=1,\n",
    "                                    max_features=.35, n_jobs=8)\n",
    "\n",
    "print('tr - Dimensionality reduction')\n",
    "x = reductor.fit_transform(train_prediction_set)\n",
    "print(x.shape)\n",
    "\n",
    "print('tr - Train classifier')\n",
    "classifier.fit(x, y_train_dec)\n",
    "decoded_predictions = classifier.predict(x)\n",
    "pred_obs = pd.DataFrame(data={'pred': decoded_predictions, 'obs': y_train_dec})\n",
    "\n",
    "print(classification_report(pred_obs['obs'], pred_obs['pred']))\n",
    "\n",
    "# Testing rf and saving results\n",
    "print('Test')\n",
    "img_test, ceil_test, y_test= data['test']\n",
    "print('te - Standarize test data')\n",
    "standard_img_test = data_generator.standardize(img_test)\n",
    "print('te - Get predictions from trained model')\n",
    "test_predictions = rf_model.predict([standard_img_test, ceil_test])\n",
    "test_predictions = reductor.transform(test_predictions)\n",
    "print('te - Final predictions')\n",
    "decoded_predictions = classifier.predict(test_predictions)\n",
    "decoded_observations = data['label_encoder'].inverse_transform(y_test)\n",
    "pred_obs = pd.DataFrame(data={'pred': decoded_predictions, 'obs': decoded_observations})\n",
    "\n",
    "# Evaluar el Modelo\n",
    "plt.ylabel('True Label')\n",
    "plt.xlabel('Predicted Label')\n",
    "plt.title('Confusion Matrix')\n",
    "\n",
    "matrix = confusion_matrix(pred_obs['obs'], pred_obs['pred'])\n",
    "names = pred_obs['obs'].unique()\n",
    "\n",
    "sns.heatmap(matrix, annot=True, cbar=False, xticklabels=names, yticklabels=names)\n",
    "print(classification_report(pred_obs['obs'], pred_obs['pred']))\n",
    "\n",
    "# Almacenar las predicciones del modelo entrenado\n",
    "# pred_obs.to_csv('%s/%s' % (file_dir, '%s_preds.csv' % model_name))"
   ]
  },
  {
   "cell_type": "markdown",
   "metadata": {
    "colab_type": "text",
    "id": "t1-ReeOxictF"
   },
   "source": [
    "# Aprendizaje Cropnet"
   ]
  },
  {
   "cell_type": "markdown",
   "metadata": {
    "colab_type": "text",
    "id": "amBRlm6_lERx"
   },
   "source": [
    "#### CropNet v1"
   ]
  },
  {
   "cell_type": "code",
   "execution_count": null,
   "metadata": {
    "colab": {
     "base_uri": "https://localhost:8080/",
     "height": 1000
    },
    "colab_type": "code",
    "executionInfo": {
     "elapsed": 898,
     "status": "ok",
     "timestamp": 1577061768091,
     "user": {
      "displayName": "Javier Huertas",
      "photoUrl": "",
      "userId": "08531127118556167809"
     },
     "user_tz": -60
    },
    "id": "19nTZb6Hig8y",
    "outputId": "3e63291f-be53-4a66-c576-650392ff6f1e"
   },
   "outputs": [],
   "source": [
    "model_name = 'cropnetv1'\n",
    "fit_model(data['train'], data['valid'], data_generator,\n",
    "                        make_cropnetv1, model_name=model_name,\n",
    "                        model_dir=model_dir, lr=1e-3)\n",
    "save_results(model_dir, model_name, data['label_encoder'],\n",
    "             data_generator, test_data=data['test'])"
   ]
  },
  {
   "cell_type": "markdown",
   "metadata": {
    "colab_type": "text",
    "id": "9TS92fAIC3eN"
   },
   "source": [
    "#### CropNet v2"
   ]
  },
  {
   "cell_type": "code",
   "execution_count": null,
   "metadata": {
    "colab": {
     "base_uri": "https://localhost:8080/",
     "height": 1000
    },
    "colab_type": "code",
    "executionInfo": {
     "elapsed": 12715995,
     "status": "ok",
     "timestamp": 1577162543717,
     "user": {
      "displayName": "Javier Huertas",
      "photoUrl": "",
      "userId": "08531127118556167809"
     },
     "user_tz": -60
    },
    "id": "db2LxT9rC2vi",
    "outputId": "78a5a378-4a26-404f-bbd5-462acb37d0f5"
   },
   "outputs": [],
   "source": [
    "model_name = 'cropnetv2'\n",
    "fit_model(data['train'], data['valid'], data_generator,\n",
    "                        make_cropnetv2, model_name=model_name,\n",
    "                        model_dir=model_dir, n_outputs=6)\n",
    "save_results(model_dir, model_name, data['label_encoder'],\n",
    "             data_generator, test_data=data['test'], n_outputs=6)"
   ]
  },
  {
   "cell_type": "markdown",
   "metadata": {
    "colab_type": "text",
    "id": "bXmQIxcPG59v"
   },
   "source": [
    "#### Cropnet v3"
   ]
  },
  {
   "cell_type": "code",
   "execution_count": null,
   "metadata": {
    "cellView": "both",
    "colab": {
     "base_uri": "https://localhost:8080/",
     "height": 1000
    },
    "colab_type": "code",
    "executionInfo": {
     "elapsed": 9314806,
     "status": "ok",
     "timestamp": 1577312918915,
     "user": {
      "displayName": "Javier Huertas",
      "photoUrl": "",
      "userId": "08531127118556167809"
     },
     "user_tz": -60
    },
    "id": "W1VsXp9VG-IY",
    "outputId": "2255d157-d7e8-4b54-a091-fffe6b14eb2b"
   },
   "outputs": [],
   "source": [
    "\n",
    "model_name = 'cropnetv3'\n",
    "fit_model(data['train'], data['valid'], data_generator,\n",
    "                        make_cropnetv3, model_name=model_name,\n",
    "                        model_dir=model_dir, n_outputs=6, batch_size=32)\n",
    "save_results(model_dir, model_name, data['label_encoder'],\n",
    "             data_generator, test_data=data['test'], n_outputs=6)"
   ]
  },
  {
   "cell_type": "markdown",
   "metadata": {
    "colab_type": "text",
    "id": "1bQ034zTtDp_"
   },
   "source": [
    "#### RandomCropnet v1"
   ]
  },
  {
   "cell_type": "code",
   "execution_count": null,
   "metadata": {
    "colab": {
     "base_uri": "https://localhost:8080/",
     "height": 1000
    },
    "colab_type": "code",
    "executionInfo": {
     "elapsed": 1495421,
     "status": "error",
     "timestamp": 1577273865059,
     "user": {
      "displayName": "Javier Huertas",
      "photoUrl": "",
      "userId": "08531127118556167809"
     },
     "user_tz": -60
    },
    "id": "XOPwT-rts5bD",
    "outputId": "17a0e8e8-f92c-4cdd-9350-a3af82c30f49"
   },
   "outputs": [],
   "source": [
    "model_name = 'rcropnetv1'\n",
    "fit_model(data['train'], data['valid'], data_generator,\n",
    "                        make_rcropnetv1(16), model_name=model_name,\n",
    "                        model_dir=model_dir, n_outputs=18, batch_size=32)\n",
    "save_results(model_dir, model_name, data['label_encoder'],\n",
    "             data_generator, test_data=data['test'], n_outputs=18)"
   ]
  },
  {
   "cell_type": "markdown",
   "metadata": {
    "colab_type": "text",
    "id": "BnH6xSOP0PGQ"
   },
   "source": [
    "#### RandomCropnet v2"
   ]
  },
  {
   "cell_type": "code",
   "execution_count": null,
   "metadata": {
    "colab": {
     "base_uri": "https://localhost:8080/",
     "height": 1000
    },
    "colab_type": "code",
    "executionInfo": {
     "elapsed": 31670,
     "status": "error",
     "timestamp": 1578314923224,
     "user": {
      "displayName": "Javier Huertas",
      "photoUrl": "",
      "userId": "08531127118556167809"
     },
     "user_tz": -60
    },
    "id": "UTPKR0TZ0Vj3",
    "outputId": "e436f883-b65e-43c7-db76-2fe64062430d"
   },
   "outputs": [],
   "source": [
    "model_name = 'rcropnetv2'\n",
    "fit_model(data['train'], data['valid'], data_generator,\n",
    "                        make_rcropnetv2(32, 128), model_name=model_name,\n",
    "                        model_dir=model_dir, n_outputs=32+2, batch_size=32)\n",
    "save_results(model_dir, model_name, data['label_encoder'],\n",
    "             data_generator, test_data=data['test'], n_outputs=18)"
   ]
  }
 ],
 "metadata": {
  "accelerator": "GPU",
  "colab": {
   "collapsed_sections": [],
   "machine_shape": "hm",
   "name": "NubesKeras.ipynb",
   "provenance": [],
   "toc_visible": true
  },
  "kernelspec": {
   "display_name": "Python 3",
   "language": "python",
   "name": "python3"
  },
  "language_info": {
   "codemirror_mode": {
    "name": "ipython",
    "version": 3
   },
   "file_extension": ".py",
   "mimetype": "text/x-python",
   "name": "python",
   "nbconvert_exporter": "python",
   "pygments_lexer": "ipython3",
   "version": "3.6.9"
  }
 },
 "nbformat": 4,
 "nbformat_minor": 4
}
